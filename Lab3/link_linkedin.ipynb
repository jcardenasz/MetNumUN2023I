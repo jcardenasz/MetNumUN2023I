{
  "nbformat": 4,
  "nbformat_minor": 0,
  "metadata": {
    "colab": {
      "provenance": []
    },
    "kernelspec": {
      "name": "python3",
      "display_name": "Python 3"
    },
    "language_info": {
      "name": "python"
    }
  },
  "cells": [
    {
      "cell_type": "code",
      "execution_count": null,
      "metadata": {
        "id": "4uImkn0F9gcv"
      },
      "outputs": [],
      "source": [
        "LINKEDIN LINK: https://www.linkedin.com/in/juan-camilo-cardenas-54a585249/recent-activity/documents/"
      ]
    }
  ]
}